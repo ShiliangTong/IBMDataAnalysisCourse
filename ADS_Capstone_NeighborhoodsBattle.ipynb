{
 "cells": [
  {
   "cell_type": "markdown",
   "metadata": {},
   "source": [
    "<a href=\"https://cognitiveclass.ai\"><img src = \"https://ibm.box.com/shared/static/9gegpsmnsoo25ikkbl4qzlvlyjbgxs5x.png\" width = 400> </a>\n",
    "\n",
    "<h1 align=center><font size = 5>Capstone Project - The Battle of Neighborhoods (Week 1)</font></h1>\n",
    "<h1 align=center><font size = 4>City One-Day Walking Tour Planner</font></h1>\n",
    "<h1 align=center><font size = 3>- Shiliang Tong (tongsl1003@gmail.com) </font></h1>"
   ]
  },
  {
   "cell_type": "markdown",
   "metadata": {},
   "source": [
    "## Introduction\n",
    "\n",
    "City Walking Tour Planner is aiming to generate a simple recommendation for a walking trip in a city from a given start point (location address or coordinates) to a given end point. \n",
    "\n",
    "The recommendation starts with a good rated Cafe, and it offers the user a list of Wiki introduction, photo and homepage for the places to visit with the tour. With some hardcoded values like walking speed, number of hours to spend for each category, it arranges the time and places for lunch. Then places to visit for the afternoon and dinner. Eventually it guides you to your end point, which could also be your start point. \n",
    "\n",
    "The recommendation will be presented on the Folium Map, and each places will be marked with the sequence number. Followed by the map, each places will be introduced with the information, picture, rating, tip from Foursquare if it has any and accessible with my free subscription. \n",
    "\n",
    "The background is to offer recommendation for the travelers, who enjoys walking around and need a reference to look at when planning a tour. With most of the navigation service, one can easily find things to do and places to visit, but most of them are still in the level of returning different venues for the user to select, not so many service provide recommendations  for trip planning. \n",
    "\n",
    "Future vision: As a traveler, given my data of my tips, places visited, places liked/disliked, one service shall be possible to be trained to offer recommendations of the places I might interested. Therefore, when I am planning a trip in a new city, the service shall give me different route options, with estimated hours, estimated walking distance, highlights of the route, and a list of places to visit. In addition, peak hours, open hours are to be considered when making a route recommendation.\n"
   ]
  },
  {
   "cell_type": "markdown",
   "metadata": {},
   "source": [
    "## Key Features\n",
    "\n",
    "The project shall include features below:\n",
    "<li>Given a start point and an end point, it plans a walking trip with the search of \"Fun\", \"Restaurant\", \"Cafe\", \"Must See\", etc. from Foursquare API.</li>\n",
    "<li>Use hardcoded amount of hours to spend, and walking speed to estimate the durantion of walking trip</li>\n",
    "<li>Use Folium to display the walking route</li>\n",
    "<li>Collect venue information from introduction and limited tips and photos, and Wikipedia if possible.</li>"
   ]
  },
  {
   "cell_type": "markdown",
   "metadata": {},
   "source": [
    "## Data\n",
    "\n",
    "Below are the data points and methodology that will be used for building up the service\n",
    "<li>Nominatim from geopy.geocoders will be used to get coordinates.</li>\n",
    "<li>Foursquare API search with coordinates, query, and radius will be used.</li>\n",
    "<li>Within the search response json data. response.venues is the array of venues to pick places to visit</li>\n",
    "<li>Within a venue, id, name, distance, categories will be used.</li>"
   ]
  },
  {
   "cell_type": "markdown",
   "metadata": {},
   "source": [
    "### 1. Sample Venues data to use from search response\n",
    "'response': {'venues': [{'id': '427c0500f964a52097211fe3',\n",
    "    'name': 'Metropolitan Museum of Art',\n",
    "     'distance': 32,\n",
    "    'categories': [{\n",
    "    'name': 'Art Museum',\n",
    "      'icon': {'prefix': 'https://ss3.4sqi.net/img/categories_v2/arts_entertainment/museum_art_',\n",
    "       'suffix': '.png'},\n",
    "      'primary': True}]}"
   ]
  },
  {
   "cell_type": "markdown",
   "metadata": {},
   "source": [
    "### 2. Sample Venue data get from Foursquare with venue ID from step before\n",
    "\n",
    "Due to the venue data is quite big, keys for the response venue dictionary are as below:\n",
    "dict_keys(['id', 'name', 'contact', 'location', 'canonicalUrl', 'categories', 'verified', 'stats', 'url', 'hasMenu', 'likes', 'like', 'dislike', 'ok', 'rating', 'ratingColor', 'ratingSignals', 'menu', 'allowMenuUrlEdit', 'beenHere', 'specials', 'photos', 'reasons', 'description', 'page', 'hereNow', 'createdAt', 'tips', 'shortUrl', 'timeZone', 'listed', 'hours', 'popular', 'seasonalHours', 'defaultHours', 'pageUpdates', 'inbox', 'attributes', 'bestPhoto', 'colors'])\n",
    "\n",
    "Sample data example with Metropolitan Museum of Art in New York:\n",
    "<li>'verified': True,</li>\n",
    "<li>'stats': {'tipCount': 1942},</li>\n",
    "<li>'url': 'http://www.metmuseum.org',</li>\n",
    "<li>'likes': {'count': 14181,...}</li>\n",
    "<li>'rating': 9.6,</li>\n",
    "<li>'description': 'The Metropolitan Museum of Art is the largest art museum in the United States with among the most significant art collections. Its permanent collection contains more than two million works, divided among nineteen curatorial departments.',</li>\n",
    "<li>'tips': {'count': 1942,</li>\n",
    "<li>'text': 'The best place to gawk at priceless art has a collection that is seemingly endless, spanning creepy Egyptian tombs to the shimmering Impressionist paintings to an unparalleled costume collection.', </li>\n",
    "<li>'agreeCount': 140,</li>"
   ]
  }
 ],
 "metadata": {
  "kernelspec": {
   "display_name": "Python 3",
   "language": "python",
   "name": "python3"
  },
  "language_info": {
   "codemirror_mode": {
    "name": "ipython",
    "version": 3
   },
   "file_extension": ".py",
   "mimetype": "text/x-python",
   "name": "python",
   "nbconvert_exporter": "python",
   "pygments_lexer": "ipython3",
   "version": "3.7.4"
  }
 },
 "nbformat": 4,
 "nbformat_minor": 2
}
